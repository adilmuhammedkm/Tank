{
 "cells": [
  {
   "cell_type": "markdown",
   "id": "88cced26",
   "metadata": {},
   "source": [
    "1.Create a list of tuples containing the 5 planets of our solar system along with their moons as-earth having 1 moon, Jupiter having 79 moons, Saturnhaving 82 moons, Uranushaving 27 moons and Neptunehaving 14 moons.Sort the list according to the ascending number of moons along with the names of planet using Lambda function. Display both original and sorted list."
   ]
  },
  {
   "cell_type": "code",
   "execution_count": 1,
   "id": "fc35dc95",
   "metadata": {
    "scrolled": true
   },
   "outputs": [
    {
     "name": "stdout",
     "output_type": "stream",
     "text": [
      "Original list of planets: [('Earth', 1), ('Jupiter', 79), ('Saturn', 82), ('Uranus', 27), ('Neptune', 14)]\n"
     ]
    }
   ],
   "source": [
    "Original_list_of_Planets = [(\"Earth\", 1),(\"Jupiter\",79),(\"Saturn\",82),(\"Uranus\",27),(\"Neptune\",14)]\n",
    "print(\"Original list of planets:\",Original_list_of_Planets)"
   ]
  },
  {
   "cell_type": "code",
   "execution_count": 2,
   "id": "558f022a",
   "metadata": {},
   "outputs": [],
   "source": [
    "Lambda = Original_list_of_Planets.sort(key = lambda x : x[1])"
   ]
  },
  {
   "cell_type": "code",
   "execution_count": 3,
   "id": "ef2f5000",
   "metadata": {},
   "outputs": [
    {
     "name": "stdout",
     "output_type": "stream",
     "text": [
      "New sorted list of planets: [('Earth', 1), ('Neptune', 14), ('Uranus', 27), ('Jupiter', 79), ('Saturn', 82)]\n"
     ]
    }
   ],
   "source": [
    "print(\"New sorted list of planets:\",Original_list_of_Planets)"
   ]
  },
  {
   "cell_type": "markdown",
   "id": "b326931f",
   "metadata": {},
   "source": [
    "2.Create two functions -fillup and use, which uses a global variable as tank. Use the global variable in both the functions to return the quantity of fuel present in the tank after filling up the tank and after using the fuel of the tank. Show the working of two functions only. It is not necessary to display the outputs."
   ]
  },
  {
   "cell_type": "code",
   "execution_count": 2,
   "id": "9b6025ee",
   "metadata": {},
   "outputs": [
    {
     "name": "stdout",
     "output_type": "stream",
     "text": [
      "Enter how much fuel present after fillup: 90\n",
      "The quantity of fuel present in the tank after filling up the tank: 90\n",
      "Enter how much fuel used: 0\n",
      "After using the fuel of the tank: 90\n"
     ]
    }
   ],
   "source": [
    "TANK = int(input(\"Enter how much fuel present after fillup: \"))\n",
    "def fillup(TANK):\n",
    "    if TANK > 0:\n",
    "        print(\"The quantity of fuel present in the tank after filling up the tank:\", TANK)\n",
    "        tank = int(input(\"Enter how much fuel used: \"))\n",
    "        def use(tank):\n",
    "            if TANK-tank>0:\n",
    "                print(\"After using the fuel of the tank:\", TANK - tank)\n",
    "            else:\n",
    "                print(\"Used more fuel and the tank is empty\")\n",
    "        use(tank)\n",
    "    else:\n",
    "        print(\"Tank has no fuel in it\")\n",
    "fillup(TANK)"
   ]
  },
  {
   "cell_type": "code",
   "execution_count": null,
   "id": "452607c9",
   "metadata": {},
   "outputs": [],
   "source": []
  }
 ],
 "metadata": {
  "kernelspec": {
   "display_name": "Python 3 (ipykernel)",
   "language": "python",
   "name": "python3"
  },
  "language_info": {
   "codemirror_mode": {
    "name": "ipython",
    "version": 3
   },
   "file_extension": ".py",
   "mimetype": "text/x-python",
   "name": "python",
   "nbconvert_exporter": "python",
   "pygments_lexer": "ipython3",
   "version": "3.9.13"
  }
 },
 "nbformat": 4,
 "nbformat_minor": 5
}
